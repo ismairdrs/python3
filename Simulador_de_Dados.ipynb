{
  "nbformat": 4,
  "nbformat_minor": 0,
  "metadata": {
    "colab": {
      "name": "Simulador de Dados.ipynb",
      "provenance": [],
      "collapsed_sections": [],
      "authorship_tag": "ABX9TyPg78Mm9BQrzvm9nU34HofX",
      "include_colab_link": true
    },
    "kernelspec": {
      "name": "python3",
      "display_name": "Python 3"
    }
  },
  "cells": [
    {
      "cell_type": "markdown",
      "metadata": {
        "id": "view-in-github",
        "colab_type": "text"
      },
      "source": [
        "<a href=\"https://colab.research.google.com/github/ismairdrs/python3/blob/master/Simulador_de_Dados.ipynb\" target=\"_parent\"><img src=\"https://colab.research.google.com/assets/colab-badge.svg\" alt=\"Open In Colab\"/></a>"
      ]
    },
    {
      "cell_type": "markdown",
      "metadata": {
        "id": "m1cMROZRXm0F",
        "colab_type": "text"
      },
      "source": [
        "# Simulador de Dados"
      ]
    },
    {
      "cell_type": "code",
      "metadata": {
        "id": "hw8QRjZ-XZGS",
        "colab_type": "code",
        "colab": {}
      },
      "source": [
        "import random\n",
        "import statistics"
      ],
      "execution_count": 0,
      "outputs": []
    },
    {
      "cell_type": "code",
      "metadata": {
        "id": "MNNNzeMpt0zZ",
        "colab_type": "code",
        "colab": {}
      },
      "source": [
        "def gerar_numeros(faces):\n",
        "    dados = int(input('Digite o número de dados: '))\n",
        "    numeros = []\n",
        "    for i in range(dados):\n",
        "        numero = random.randint(1,faces)\n",
        "        numeros.append(numero)\n",
        "        print(f'Seu número é: {numero}')\n",
        "    print(f'A soma dos números é: {sum(numeros)}')\n",
        "    print(f'mínimo é: {min(numeros)}')\n",
        "    print(f'máximo é: {max(numeros)}')\n",
        "    print(f'média é: {statistics.mean(numeros)}')\n",
        "\n"
      ],
      "execution_count": 0,
      "outputs": []
    },
    {
      "cell_type": "code",
      "metadata": {
        "id": "nKEOr-RwXlBN",
        "colab_type": "code",
        "colab": {
          "base_uri": "https://localhost:8080/",
          "height": 221
        },
        "outputId": "ad60a008-234f-4af2-fdf9-a77e7ff1c3bd"
      },
      "source": [
        "continua = True\n",
        "print('Para parar o programa digite \"parar\"')\n",
        "while continua:\n",
        "    faces = input(\"Digite um número de faces: \")\n",
        "    if faces == \"parar\":\n",
        "        continua = False\n",
        "    else:\n",
        "        faces = int(faces)\n",
        "        gerar_numeros(faces)\n",
        "print('Finalizou o programa!')"
      ],
      "execution_count": 19,
      "outputs": [
        {
          "output_type": "stream",
          "text": [
            "Para parar o programa digite \"parar\"\n",
            "Digite um número de faces: 5\n",
            "Digite o número de dados: 3\n",
            "Seu número é: 4\n",
            "Seu número é: 5\n",
            "Seu número é: 5\n",
            "A soma dos números é: 14\n",
            "mínimo é: 4\n",
            "máximo é: 5\n",
            "média é: 4.666666666666667\n",
            "Digite um número de faces: parar\n",
            "Finalizou o programa!\n"
          ],
          "name": "stdout"
        }
      ]
    }
  ]
}