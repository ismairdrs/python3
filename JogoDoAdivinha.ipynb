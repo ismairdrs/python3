{
  "nbformat": 4,
  "nbformat_minor": 0,
  "metadata": {
    "colab": {
      "name": "JogoDoAdivinha.ipynb",
      "provenance": [],
      "collapsed_sections": [],
      "authorship_tag": "ABX9TyMvoja7D3Lr8ynMpb2tkLIx",
      "include_colab_link": true
    },
    "kernelspec": {
      "name": "python3",
      "display_name": "Python 3"
    }
  },
  "cells": [
    {
      "cell_type": "markdown",
      "metadata": {
        "id": "view-in-github",
        "colab_type": "text"
      },
      "source": [
        "<a href=\"https://colab.research.google.com/github/ismairdrs/python3/blob/master/JogoDoAdivinha.ipynb\" target=\"_parent\"><img src=\"https://colab.research.google.com/assets/colab-badge.svg\" alt=\"Open In Colab\"/></a>"
      ]
    },
    {
      "cell_type": "markdown",
      "metadata": {
        "id": "4_zhf32nV6aD",
        "colab_type": "text"
      },
      "source": [
        ""
      ]
    },
    {
      "cell_type": "markdown",
      "metadata": {
        "id": "n30GjJazV1Wa",
        "colab_type": "text"
      },
      "source": [
        "# Jogo do Adivinha"
      ]
    },
    {
      "cell_type": "code",
      "metadata": {
        "id": "PkNKh0Z9SmjU",
        "colab_type": "code",
        "colab": {}
      },
      "source": [
        "from random import randint"
      ],
      "execution_count": 0,
      "outputs": []
    },
    {
      "cell_type": "code",
      "metadata": {
        "id": "jQKeXvomUddZ",
        "colab_type": "code",
        "colab": {
          "base_uri": "https://localhost:8080/",
          "height": 170
        },
        "outputId": "2bfddaf0-46fd-47e0-d25c-06913ab1cf52"
      },
      "source": [
        "numero = random.randint(1,100)\n",
        "chute = 150;\n",
        "while numero != chute:\n",
        "    chute = input(\"Digite um número de 1 a 100: \")\n",
        "    chute = int(chute) \n",
        "    \n",
        "    diferenca = numero - chute\n",
        "    if diferenca == 0:\n",
        "        print(\"Você acertou!\")\n",
        "    elif diferenca > 0:\n",
        "        if abs(diferenca) <= 10:\n",
        "            print(\"Você errou, o valor é maior! (está quente)\")\n",
        "        else:\n",
        "            print(\"Você errou, o valor é maior! (está frio)\")\n",
        "    else:\n",
        "        if abs(diferenca) <= 10:\n",
        "            print(\"Você errou, o valor é menor! (está quente)\")\n",
        "        else:\n",
        "            print(\"Você errou, o valor é menor! (está frio)\")\n",
        "\n",
        "print(f'O número é {numero}! Parabéns!')"
      ],
      "execution_count": 16,
      "outputs": [
        {
          "output_type": "stream",
          "text": [
            "Digite um número de 1 a 100: 50\n",
            "Você errou, o valor é maior! (está frio)\n",
            "Digite um número de 1 a 100: 80\n",
            "Você errou, o valor é maior! (está quente)\n",
            "Digite um número de 1 a 100: 85\n",
            "Você errou, o valor é menor! (está quente)\n",
            "Digite um número de 1 a 100: 84\n",
            "Você acertou!\n",
            "O número é 84! Parabéns!\n"
          ],
          "name": "stdout"
        }
      ]
    },
    {
      "cell_type": "code",
      "metadata": {
        "id": "eOJwnkKuWAFU",
        "colab_type": "code",
        "colab": {
          "base_uri": "https://localhost:8080/",
          "height": 54
        },
        "outputId": "894ee8a8-48b6-402d-fec6-dec634944212"
      },
      "source": [
        "from google.colab import drive\n",
        "drive.mount('/content/drive')"
      ],
      "execution_count": 18,
      "outputs": [
        {
          "output_type": "stream",
          "text": [
            "Drive already mounted at /content/drive; to attempt to forcibly remount, call drive.mount(\"/content/drive\", force_remount=True).\n"
          ],
          "name": "stdout"
        }
      ]
    },
    {
      "cell_type": "code",
      "metadata": {
        "id": "pjzKVRCtP-fo",
        "colab_type": "code",
        "colab": {}
      },
      "source": [
        ""
      ],
      "execution_count": 0,
      "outputs": []
    }
  ]
}